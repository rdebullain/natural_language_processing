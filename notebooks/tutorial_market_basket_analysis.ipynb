{
 "cells": [
  {
   "cell_type": "markdown",
   "metadata": {},
   "source": [
    "#### Importing Libraries\n",
    "This block imports the necessary libraries for data manipulation (`pandas`) and for market basket analysis (`apriori` and `association_rules` from `mlxtend.frequent_patterns`)."
   ]
  },
  {
   "cell_type": "code",
   "execution_count": 1,
   "metadata": {},
   "outputs": [],
   "source": [
    "# importing the necessary libraries\n",
    "import pandas as pd\n",
    "from mlxtend.frequent_patterns import apriori\n",
    "from mlxtend.frequent_patterns import association_rules"
   ]
  },
  {
   "cell_type": "markdown",
   "metadata": {},
   "source": [
    "#### Reading and Preparing Data\n",
    "This block reads the online retail data from an Excel file into a DataFrame, removes rows with missing invoice numbers, and converts the invoice numbers to string type. It also displays the first few rows of invoices that contain the letter 'C' and then removes these rows from the DataFrame."
   ]
  },
  {
   "cell_type": "code",
   "execution_count": null,
   "metadata": {},
   "outputs": [],
   "source": [
    "# reading the data from an Excel file into a DataFrame\n",
    "df = pd.read_excel('data/Online Retail.xlsx')"
   ]
  },
  {
   "cell_type": "code",
   "execution_count": null,
   "metadata": {},
   "outputs": [],
   "source": [
    "# removing rows with missing 'InvoiceNo' values\n",
    "df.dropna(axis=0, subset=['InvoiceNo'], inplace=True)"
   ]
  },
  {
   "cell_type": "code",
   "execution_count": null,
   "metadata": {},
   "outputs": [],
   "source": [
    "# converting the 'InvoiceNo' column to string type\n",
    "df['InvoiceNo'] = df['InvoiceNo'].astype('str')"
   ]
  },
  {
   "cell_type": "code",
   "execution_count": null,
   "metadata": {},
   "outputs": [],
   "source": [
    "# displaying the first few rows where 'InvoiceNo' contains the letter 'C'\n",
    "df[df.InvoiceNo.str.contains('C', na=False)].head()"
   ]
  },
  {
   "cell_type": "code",
   "execution_count": null,
   "metadata": {},
   "outputs": [],
   "source": [
    "# removing rows where 'InvoiceNo' contains the letter 'C'\n",
    "df = df[~df['InvoiceNo'].str.contains('C')]"
   ]
  },
  {
   "cell_type": "markdown",
   "metadata": {},
   "source": [
    "#### Filtering and Reshaping Data\n",
    "This block filters the data to include only transactions made in the United Kingdom. It groups the data by invoice number and product description, sums the quantities, and then reshapes the data to have each product as a separate column. Missing values are filled with 0, and the invoice number is set as the index."
   ]
  },
  {
   "cell_type": "code",
   "execution_count": null,
   "metadata": {},
   "outputs": [],
   "source": [
    "# filtering data for transactions made in the United Kingdom\n",
    "# grouping the data by 'InvoiceNo' and 'Description' and summing the 'Quantity'\n",
    "market_basket = df[df['Country'] == \"United Kingdom\"].groupby(['InvoiceNo', 'Description'])['Quantity']"
   ]
  },
  {
   "cell_type": "code",
   "execution_count": null,
   "metadata": {},
   "outputs": [],
   "source": [
    "# reshaping the data: unstacking the grouped data, resetting the index, filling NaN values with 0, and setting 'InvoiceNo' as the index\n",
    "market_basket = market_basket.sum().unstack().reset_index().fillna(0).set_index('InvoiceNo')"
   ]
  },
  {
   "cell_type": "code",
   "execution_count": null,
   "metadata": {},
   "outputs": [],
   "source": [
    "# displaying the first few rows of the reshaped DataFrame\n",
    "market_basket.head()"
   ]
  },
  {
   "cell_type": "markdown",
   "metadata": {},
   "source": [
    "#### Encoding Data\n",
    "This block defines a function to encode the quantities into binary values: 0 if the quantity is 0 or less, and 1 if the quantity is 1 or more. It then applies this encoding function to the entire DataFrame."
   ]
  },
  {
   "cell_type": "code",
   "execution_count": null,
   "metadata": {},
   "outputs": [],
   "source": [
    "# defining a function to encode the data: 0 if the quantity is 0 or less, 1 if the quantity is 1 or more\n",
    "def encode_data(datapoint):\n",
    "    if datapoint <= 0:\n",
    "        return 0\n",
    "    if datapoint >= 1:\n",
    "        return 1"
   ]
  },
  {
   "cell_type": "code",
   "execution_count": null,
   "metadata": {},
   "outputs": [],
   "source": [
    "# applying the encoding function to the market_basket DataFrame\n",
    "market_basket = market_basket.applymap(encode_data)"
   ]
  },
  {
   "cell_type": "markdown",
   "metadata": {},
   "source": [
    "#### Applying Apriori and Generating Association Rules\n",
    "This block applies the apriori algorithm to the encoded DataFrame to find frequent itemsets with a minimum support of 0.03. It then generates association rules from these itemsets with a minimum lift of 0.5."
   ]
  },
  {
   "cell_type": "code",
   "execution_count": null,
   "metadata": {},
   "outputs": [],
   "source": [
    "# applying the apriori algorithm to find itemsets with minimum support of 0.03\n",
    "itemsets = apriori(market_basket, min_support=0.03, use_colnames=True)"
   ]
  },
  {
   "cell_type": "code",
   "execution_count": null,
   "metadata": {},
   "outputs": [],
   "source": [
    "# generating association rules with a minimum lift of 0.5\n",
    "rules = association_rules(itemsets, metric=\"lift\", min_threshold=0.5)"
   ]
  },
  {
   "cell_type": "markdown",
   "metadata": {},
   "source": [
    "### MBA without MLxtend"
   ]
  },
  {
   "cell_type": "markdown",
   "metadata": {},
   "source": [
    "#### Importing Libraries\n",
    "This block imports the necessary libraries for generating combinations, grouping data, and counting occurrences."
   ]
  },
  {
   "cell_type": "code",
   "execution_count": null,
   "metadata": {},
   "outputs": [],
   "source": [
    "# importing necessary libraries for combination generation, grouping, and counting\n",
    "from itertools import combinations, groupby\n",
    "from collections import Counter"
   ]
  },
  {
   "cell_type": "markdown",
   "metadata": {},
   "source": [
    "#### Filtering Data for the United Kingdom\n",
    "This block filters the DataFrame to include only transactions made in the United Kingdom, sets the index to 'InvoiceNo', and selects the 'StockCode' column to analyze the items in each order."
   ]
  },
  {
   "cell_type": "code",
   "execution_count": null,
   "metadata": {},
   "outputs": [],
   "source": [
    "# filtering the data for transactions made in the United Kingdom\n",
    "df_manual = df[df['Country'] == \"United Kingdom\"]"
   ]
  },
  {
   "cell_type": "code",
   "execution_count": null,
   "metadata": {},
   "outputs": [],
   "source": [
    "# setting the index to 'InvoiceNo' and selecting the 'StockCode' column\n",
    "orders = df_manual.set_index('InvoiceNo')['StockCode']"
   ]
  },
  {
   "cell_type": "markdown",
   "metadata": {},
   "source": [
    "#### Calculating Frequency and Support\n",
    "This block calculates the frequency and support for each item. Support is the proportion of transactions that include a particular item."
   ]
  },
  {
   "cell_type": "code",
   "execution_count": null,
   "metadata": {},
   "outputs": [],
   "source": [
    "# calculating the frequency of each stock code (item) and converting it to a DataFrame\n",
    "statistics = orders.value_counts().to_frame(\"frequency\")"
   ]
  },
  {
   "cell_type": "code",
   "execution_count": null,
   "metadata": {},
   "outputs": [],
   "source": [
    "# calculating the support for each item\n",
    "statistics['support']  = statistics / len(set(orders.index)) * 100"
   ]
  },
  {
   "cell_type": "markdown",
   "metadata": {},
   "source": [
    "#### Filtering Items Above Support Threshold\n",
    "This block sets a minimum support threshold and filters the items and orders to include only those that meet this threshold."
   ]
  },
  {
   "cell_type": "code",
   "execution_count": null,
   "metadata": {},
   "outputs": [],
   "source": [
    "# setting the minimum support threshold\n",
    "min_support = 0.03 # same value we used above."
   ]
  },
  {
   "cell_type": "code",
   "execution_count": null,
   "metadata": {},
   "outputs": [],
   "source": [
    "# filtering items that meet the minimum support threshold\n",
    "items_above_support = statistics[statistics['support'] >= min_support].index"
   ]
  },
  {
   "cell_type": "code",
   "execution_count": null,
   "metadata": {},
   "outputs": [],
   "source": [
    "# keeping only orders that contain items above the support threshold\n",
    "orders_above_support = orders[orders.isin(items_above_support)]"
   ]
  },
  {
   "cell_type": "markdown",
   "metadata": {},
   "source": [
    "#### Filtering Orders with Multiple Items\n",
    "This block counts the number of items in each order, filters to keep only orders with two or more items, and recalculates the frequency and support for these filtered orders."
   ]
  },
  {
   "cell_type": "code",
   "execution_count": null,
   "metadata": {},
   "outputs": [],
   "source": [
    "# counting the number of orders per InvoiceNo\n",
    "order_counts = orders.index.value_counts()"
   ]
  },
  {
   "cell_type": "code",
   "execution_count": null,
   "metadata": {},
   "outputs": [],
   "source": [
    "# filtering orders that have two or more items\n",
    "orders_over_two_index = order_counts[order_counts >= 2].index"
   ]
  },
  {
   "cell_type": "code",
   "execution_count": null,
   "metadata": {},
   "outputs": [],
   "source": [
    "# keeping only orders that have two or more items\n",
    "orders_over_two = orders[orders.index.isin(orders_over_two_index)]"
   ]
  },
  {
   "cell_type": "code",
   "execution_count": null,
   "metadata": {},
   "outputs": [],
   "source": [
    "# recalculating the frequency and support for the filtered orders\n",
    "statistics = orders_over_two.value_counts().to_frame(\"frequency\")\n",
    "statistics['support']  = statistics / len(set(orders_over_two.index)) * 100"
   ]
  },
  {
   "cell_type": "markdown",
   "metadata": {},
   "source": [
    "#### Generating Item Pairs\n",
    "This block defines a function to generate pairs of items from each order, counts the frequency of these pairs, and calculates their support. It then filters pairs that meet the minimum support threshold."
   ]
  },
  {
   "cell_type": "code",
   "execution_count": null,
   "metadata": {},
   "outputs": [],
   "source": [
    "# function to generate item pairs from orders\n",
    "def itemset_generator(orders):\n",
    "    orders = orders.reset_index().values\n",
    "    for order_id, order_object in groupby(orders, lambda x: x[0]):\n",
    "        item_list = [item[1] for item in order_object]\n",
    "        for item_pair in combinations(item_list, 2):\n",
    "            yield item_pair"
   ]
  },
  {
   "cell_type": "code",
   "execution_count": null,
   "metadata": {},
   "outputs": [],
   "source": [
    "# generating item pairs from the filtered orders\n",
    "itemsets_gen = itemset_generator(orders_over_two)"
   ]
  },
  {
   "cell_type": "code",
   "execution_count": null,
   "metadata": {},
   "outputs": [],
   "source": [
    "# counting the frequency of each item pair and converting it to a DataFrame\n",
    "itemsets = pd.Series(Counter(itemsets_gen)).to_frame(\"frequencyAC\")"
   ]
  },
  {
   "cell_type": "code",
   "execution_count": null,
   "metadata": {},
   "outputs": [],
   "source": [
    "# calculating the support for each item pair\n",
    "itemsets['supportAC'] = itemsets['frequencyAC'] / len(orders_over_two_index) * 100"
   ]
  },
  {
   "cell_type": "code",
   "execution_count": null,
   "metadata": {},
   "outputs": [],
   "source": [
    "# filtering item pairs that meet the minimum support threshold\n",
    "itemsets = itemsets[itemsets['supportAC'] >= min_support]"
   ]
  },
  {
   "cell_type": "code",
   "execution_count": null,
   "metadata": {},
   "outputs": [],
   "source": [
    "# resetting the index and renaming columns for clarity\n",
    "itemsets = itemsets.reset_index().rename(columns={'level_0': 'antecedents', 'level_1': 'consequents'})"
   ]
  },
  {
   "cell_type": "markdown",
   "metadata": {},
   "source": [
    "#### Merging Statistics and Calculating Metrics\n",
    "This block merges statistics for antecedents and consequents, calculates confidence and lift metrics for the association rules, and selects relevant columns for the final rules DataFrame."
   ]
  },
  {
   "cell_type": "code",
   "execution_count": null,
   "metadata": {},
   "outputs": [],
   "source": [
    "# merging statistics for antecedents and consequents\n",
    "itemsets = (itemsets\n",
    "     .merge(statistics.rename(columns={'frequency': 'freqA', 'support': 'antecedent support'}), left_on='antecedents', right_index=True)\n",
    "     .merge(statistics.rename(columns={'frequency': 'freqC', 'support': 'consequents support'}), left_on='consequents', right_index=True))"
   ]
  },
  {
   "cell_type": "code",
   "execution_count": null,
   "metadata": {},
   "outputs": [],
   "source": [
    "# calculating confidence and lift metrics for the association rules\n",
    "itemsets['confidenceAtoC'] = itemsets['supportAC'] / itemsets['antecedent support']\n",
    "itemsets['confidenceCtoA'] = itemsets['supportAC'] / itemsets['consequents support']\n",
    "itemsets['lift'] = itemsets['supportAC'] / (itemsets['antecedent support'] * itemsets['consequents support'])"
   ]
  },
  {
   "cell_type": "code",
   "execution_count": null,
   "metadata": {},
   "outputs": [],
   "source": [
    "# selecting relevant columns for the final rules DataFrame\n",
    "itemsets = itemsets[['antecedents', 'consequents', 'antecedent support', 'consequents support', 'confidenceAtoC', 'lift']]"
   ]
  },
  {
   "cell_type": "markdown",
   "metadata": {},
   "source": [
    "#### Finalizing and Sorting Rules\n",
    "This block stores the final rules DataFrame, filters rules with confidence greater than 0.50, resets the index for readability, and sorts the rules by lift in descending order."
   ]
  },
  {
   "cell_type": "code",
   "execution_count": null,
   "metadata": {},
   "outputs": [],
   "source": [
    "# storing the final rules DataFrame\n",
    "rules = itemsets"
   ]
  },
  {
   "cell_type": "code",
   "execution_count": null,
   "metadata": {},
   "outputs": [],
   "source": [
    "# filtering rules with confidence greater than 0.50\n",
    "rules_over_50 = rules[(rules.confidenceAtoC > 0.50)]"
   ]
  },
  {
   "cell_type": "code",
   "execution_count": null,
   "metadata": {},
   "outputs": [],
   "source": [
    "# resetting the index for better readability\n",
    "rules_over_50.set_index('antecedents', inplace=True)\n",
    "rules_over_50.reset_index(inplace=True)"
   ]
  },
  {
   "cell_type": "code",
   "execution_count": null,
   "metadata": {},
   "outputs": [],
   "source": [
    "# sorting the rules by lift in descending order\n",
    "rules_over_50 = rules_over_50.sort_values('lift', ascending=False)"
   ]
  }
 ],
 "metadata": {
  "kernelspec": {
   "display_name": "base",
   "language": "python",
   "name": "python3"
  },
  "language_info": {
   "codemirror_mode": {
    "name": "ipython",
    "version": 3
   },
   "file_extension": ".py",
   "mimetype": "text/x-python",
   "name": "python",
   "nbconvert_exporter": "python",
   "pygments_lexer": "ipython3",
   "version": "3.11.7"
  }
 },
 "nbformat": 4,
 "nbformat_minor": 2
}
