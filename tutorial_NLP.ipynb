{
 "cells": [
  {
   "cell_type": "markdown",
   "metadata": {},
   "source": [
    "### What is TfidfVectorizer?\n",
    "The `TfidfVectorizer` is a tool provided by the `scikit-learn` library in Python for text feature extraction. It transforms text data into a matrix of TF-IDF features, which stands for Term Frequency-Inverse Document Frequency. This transformation helps in converting textual data into numerical data that machine learning models can process."
   ]
  },
  {
   "cell_type": "markdown",
   "metadata": {},
   "source": [
    "### How is TF-IDF Calculated?\n",
    "TF-IDF stands for Term Frequency-Inverse Document Frequency. It is a statistical measure used to evaluate the importance of a word in a document relative to a collection of documents (corpus)."
   ]
  },
  {
   "cell_type": "markdown",
   "metadata": {},
   "source": [
    "1. **Term Frequency (TF)**:\n",
    "   - This measures how frequently a term appears in a document. It is calculated as:\n",
    "$$\n",
    "\\text{TF}(t, d) = \\frac{\\text{Number of times term } t \\text{ appears in document } d}{\\text{Total number of terms in document } d}\n",
    "$$"
   ]
  },
  {
   "cell_type": "markdown",
   "metadata": {},
   "source": [
    "2. **Inverse Document Frequency (IDF)**:\n",
    "   - This measures how important a term is across the entire corpus. It is calculated as:\n",
    "     $$\n",
    "     \\text{IDF}(t) = \\log \\left( \\frac{\\text{Total number of documents}}{\\text{Number of documents containing term } t} \\right)\n",
    "     $$"
   ]
  },
  {
   "cell_type": "markdown",
   "metadata": {},
   "source": [
    "3. **TF-IDF**:\n",
    "   - This is the product of TF and IDF:\n",
    "     $$\n",
    "     \\text{TF-IDF}(t, d) = \\text{TF}(t, d) \\times \\text{IDF}(t)\n",
    "     $$"
   ]
  },
  {
   "cell_type": "markdown",
   "metadata": {},
   "source": [
    "### How Does the CountVectorizer Differ from the TfidfVectorizer?\n",
    "- **CountVectorizer**:\n",
    "  - Converts text data into a matrix of token counts. It simply counts the number of occurrences of each term in each document.\n",
    "  - Example: If the term 'data' appears 3 times in a document, the CountVectorizer will assign it a value of 3.\n",
    "\n",
    "- **TfidfVectorizer**:\n",
    "  - Converts text data into a matrix of TF-IDF features, which take into account both the frequency of a term in a document and how common the term is across the entire corpus.\n",
    "  - Example: The term 'data' might appear frequently in many documents, so its TF-IDF value will be lower than a term that appears frequently in only a few documents."
   ]
  },
  {
   "cell_type": "markdown",
   "metadata": {},
   "source": [
    "### How to Instantiate a TfidfVectorizer with Specific Parameters\n",
    "To create a `TfidfVectorizer` with the specified parameters, you can do the following:"
   ]
  },
  {
   "cell_type": "code",
   "execution_count": null,
   "metadata": {},
   "outputs": [],
   "source": [
    "from sklearn.feature_extraction.text import TfidfVectorizer\n",
    "\n",
    "no_features = 1000  # Example value for the number of features\n",
    "\n",
    "tfidf_vectorizer = TfidfVectorizer(max_df=0.95, min_df=2, max_features=no_features, stop_words='english')"
   ]
  },
  {
   "cell_type": "markdown",
   "metadata": {},
   "source": [
    "### What are the Methods of the TfidfVectorizer Object?\n",
    "The `TfidfVectorizer` object has several important methods, including:\n",
    "\n",
    "- **fit**: Learns the vocabulary and IDF from the training set.\n",
    "- **transform**: Transforms the documents to the TF-IDF representation using the learned vocabulary and IDF.\n",
    "- **fit_transform**: Combines the `fit` and `transform` methods to learn the vocabulary and IDF and transform the documents in one step.\n",
    "- **get_feature_names_out**: Returns the feature names (terms) in the learned vocabulary.\n",
    "- **vocabulary_**: Returns the learned vocabulary as a dictionary.\n",
    "- **idf_**: Returns the inverse document frequency values."
   ]
  },
  {
   "cell_type": "markdown",
   "metadata": {},
   "source": [
    "### What is NMF?\n",
    "NMF stands for Non-negative Matrix Factorization. It is a group of algorithms in multivariate analysis and linear algebra where a matrix \\( V \\) is factorized into (usually) two matrices \\( W \\) and \\( H \\) such that:\n",
    "\n",
    "$$\n",
    "V \\approx WH\n",
    "$$\n",
    "\n",
    "NMF is used for dimensionality reduction, topic modeling, and source separation, with the constraint that all three matrices \\( V \\), \\( W \\), and \\( H \\) have no negative elements."
   ]
  },
  {
   "cell_type": "markdown",
   "metadata": {},
   "source": [
    "### What is LDA?\n",
    "LDA stands for Latent Dirichlet Allocation. It is a generative probabilistic model used in natural language processing and machine learning to discover abstract topics within a collection of documents. LDA assumes that documents are mixtures of topics and that topics are mixtures of words. The process involves:\n",
    "\n",
    "- Assigning topics to each word in a document.\n",
    "- Estimating the distribution of topics in each document.\n",
    "- Estimating the distribution of words in each topic.\n",
    "\n",
    "LDA is widely used for topic modeling and discovering hidden thematic structures in large corpora."
   ]
  },
  {
   "cell_type": "code",
   "execution_count": 8,
   "metadata": {},
   "outputs": [],
   "source": [
    "# import TfidfVectorizer and CountVectorizer from sklearn\n",
    "from sklearn.feature_extraction.text import TfidfVectorizer, CountVectorizer"
   ]
  },
  {
   "cell_type": "code",
   "execution_count": 9,
   "metadata": {},
   "outputs": [],
   "source": [
    "# import fetch_20newsgroups from sklearn.datasets\n",
    "from sklearn.datasets import fetch_20newsgroups"
   ]
  },
  {
   "cell_type": "code",
   "execution_count": 10,
   "metadata": {},
   "outputs": [],
   "source": [
    "# import NMF and LatentDirichletAllocation from sklearn\n",
    "from sklearn.decomposition import NMF, LatentDirichletAllocation"
   ]
  },
  {
   "cell_type": "code",
   "execution_count": 11,
   "metadata": {},
   "outputs": [],
   "source": [
    "dataset = fetch_20newsgroups(shuffle=True, random_state=1, remove=('headers', 'footers', 'quotes'))\n",
    "documents = dataset.data"
   ]
  },
  {
   "cell_type": "code",
   "execution_count": 12,
   "metadata": {},
   "outputs": [],
   "source": [
    "no_features = 100\n",
    "no_topics = 100"
   ]
  },
  {
   "cell_type": "markdown",
   "metadata": {},
   "source": [
    "### NMF"
   ]
  },
  {
   "cell_type": "code",
   "execution_count": 19,
   "metadata": {},
   "outputs": [],
   "source": [
    "# Instantiate TfidfVectorizer with specified parameters\n",
    "tfidf_vectorizer = TfidfVectorizer(max_df=0.95, min_df=2, max_features=no_features, stop_words='english')"
   ]
  },
  {
   "cell_type": "markdown",
   "metadata": {},
   "source": [
    "1. **TfidfVectorizer**:\n",
    "   - `max_df=0.95`: Ignore terms that appear in more than 95% of the documents.\n",
    "   - `min_df=2`: Ignore terms that appear in fewer than 2 documents.\n",
    "   - `max_features=no_features`: Limit the number of features (terms) to `no_features`.\n",
    "   - `stop_words='english'`: Remove common English stop words."
   ]
  },
  {
   "cell_type": "code",
   "execution_count": 20,
   "metadata": {},
   "outputs": [],
   "source": [
    "# Use the fit_transform method to transform the documents\n",
    "tfidf_matrix = tfidf_vectorizer.fit_transform(documents)"
   ]
  },
  {
   "cell_type": "markdown",
   "metadata": {},
   "source": [
    "2. **Transform the Documents**:\n",
    "   - `fit_transform(documents)`: Learn the vocabulary and idf, then return the term-document matrix."
   ]
  },
  {
   "cell_type": "code",
   "execution_count": 21,
   "metadata": {},
   "outputs": [],
   "source": [
    "# Get the feature names from TfidfVectorizer\n",
    "feature_names = tfidf_vectorizer.get_feature_names_out()"
   ]
  },
  {
   "cell_type": "markdown",
   "metadata": {},
   "source": [
    "3. **Get Feature Names**:\n",
    "   - `get_feature_names_out()`: Retrieve the feature names (terms) learned by the vectorizer."
   ]
  },
  {
   "cell_type": "code",
   "execution_count": 22,
   "metadata": {},
   "outputs": [
    {
     "name": "stdout",
     "output_type": "stream",
     "text": [
      "Number of features: 100\n",
      "First 10 feature names: ['00' '10' '12' '14' '15' '16' '20' '25' 'a86' 'available']\n"
     ]
    }
   ],
   "source": [
    "# Print the number of features and the first 10 feature names\n",
    "print(f\"Number of features: {len(feature_names)}\")\n",
    "print(f\"First 10 feature names: {feature_names[:10]}\")"
   ]
  },
  {
   "cell_type": "code",
   "execution_count": 23,
   "metadata": {},
   "outputs": [],
   "source": [
    "# Instantiate NMF and fit_transform the TF-IDF data\n",
    "num_topics = 100\n",
    "nmf_model = NMF(n_components=num_topics, random_state=1)\n",
    "nmf_topics = nmf_model.fit_transform(tfidf_matrix)"
   ]
  },
  {
   "cell_type": "markdown",
   "metadata": {},
   "source": [
    "4. **NMF (Non-negative Matrix Factorization)**:\n",
    "   - `NMF(n_components=num_topics, random_state=1)`: Instantiate the NMF model with a specified number of topics.\n",
    "   - `fit_transform(tfidf_matrix)`: Fit the model to the TF-IDF matrix and return the topic matrix."
   ]
  },
  {
   "cell_type": "code",
   "execution_count": 24,
   "metadata": {},
   "outputs": [
    {
     "name": "stdout",
     "output_type": "stream",
     "text": [
      "NMF topic matrix shape: (11314, 100)\n"
     ]
    }
   ],
   "source": [
    "# Print the shape of the NMF topic matrix\n",
    "print(f\"NMF topic matrix shape: {nmf_topics.shape}\")"
   ]
  }
 ],
 "metadata": {
  "kernelspec": {
   "display_name": "base",
   "language": "python",
   "name": "python3"
  },
  "language_info": {
   "codemirror_mode": {
    "name": "ipython",
    "version": 3
   },
   "file_extension": ".py",
   "mimetype": "text/x-python",
   "name": "python",
   "nbconvert_exporter": "python",
   "pygments_lexer": "ipython3",
   "version": "3.11.7"
  }
 },
 "nbformat": 4,
 "nbformat_minor": 2
}
